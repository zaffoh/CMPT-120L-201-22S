{
 "cells": [
  {
   "cell_type": "markdown",
   "metadata": {},
   "source": [
    "# Lab Two\n",
    "---\n",
    "\n",
    "For this lab we're going to get into logic\n",
    "\n",
    "Our Goals are:\n",
    "- Using Conditionals\n",
    "- Using Loops\n",
    "- Creating a Function\n",
    "- Using a Class"
   ]
  },
  {
   "cell_type": "code",
   "execution_count": 1,
   "metadata": {},
   "outputs": [
    {
     "name": "stdout",
     "output_type": "stream",
     "text": [
      "False\n"
     ]
    }
   ],
   "source": [
    "# Create an if statement\n",
    "if 2 !=3:\n",
    "    print(False)"
   ]
  },
  {
   "cell_type": "code",
   "execution_count": 3,
   "metadata": {},
   "outputs": [
    {
     "name": "stdout",
     "output_type": "stream",
     "text": [
      "False\n"
     ]
    }
   ],
   "source": [
    "# Create an if else statement\n",
    "if 2 == 3:\n",
    "    print(True)\n",
    "else:\n",
    "    print(False)"
   ]
  },
  {
   "cell_type": "code",
   "execution_count": 2,
   "metadata": {},
   "outputs": [
    {
     "name": "stdout",
     "output_type": "stream",
     "text": [
      "You did not enter an answer in the correct format. Try again please!\n",
      "You pressed the 2 key.\n"
     ]
    }
   ],
   "source": [
    "# Create an if elif else statement\n",
    "\n",
    "def ifelifelse():\n",
    "    usrinput = int(input(\"Press 1,2 or 3 on the keypad and hit enter.\"))\n",
    "\n",
    "    if usrinput == 1:\n",
    "        print(\"You pressed the 1 key.\")\n",
    "    elif usrinput == 2:\n",
    "        print(\"You pressed the 2 key.\")\n",
    "    elif usrinput == 3:\n",
    "        print(\"You pressed the 3 key.\")\n",
    "    else:\n",
    "        print(\"You did not enter an answer in the correct format. Try again please!\")\n",
    "        ifelifelse()\n",
    "\n",
    "ifelifelse()"
   ]
  },
  {
   "cell_type": "code",
   "execution_count": 6,
   "metadata": {},
   "outputs": [
    {
     "name": "stdout",
     "output_type": "stream",
     "text": [
      "0\n",
      "1\n",
      "2\n",
      "3\n",
      "4\n",
      "5\n",
      "6\n",
      "7\n",
      "8\n",
      "9\n"
     ]
    }
   ],
   "source": [
    "# Create a for loop using range(). Go from 0 to 9. Print out each number.\n",
    "counter = 0\n",
    "for i in range(10):\n",
    "    print(counter)\n",
    "    counter += 1"
   ]
  },
  {
   "cell_type": "code",
   "execution_count": 17,
   "metadata": {},
   "outputs": [
    {
     "name": "stdout",
     "output_type": "stream",
     "text": [
      "Blue\n",
      "Yellow\n",
      "Red\n",
      "Green\n",
      "Purple\n",
      "Magenta\n",
      "Lilac\n",
      "7\n"
     ]
    }
   ],
   "source": [
    "# Create a for loop iterating through this list and printing out the value.\n",
    "arr = ['Blue', 'Yellow', 'Red', 'Green', 'Purple', 'Magenta', 'Lilac']\n",
    "\n",
    "for i in range(len(arr)):\n",
    "    print(arr[i])\n",
    "\n",
    "# Get the length of the list above and print it.\n",
    "print(len(arr))"
   ]
  },
  {
   "cell_type": "code",
   "execution_count": 21,
   "metadata": {},
   "outputs": [
    {
     "name": "stdout",
     "output_type": "stream",
     "text": [
      "still going...\n",
      "still going...\n",
      "still going...\n",
      "still going...\n",
      "still going...\n",
      "still going...\n",
      "done!\n"
     ]
    }
   ],
   "source": [
    "# Create a while loop that ends after 6 times through. Print something for each pass.\n",
    "counter = 0\n",
    "while counter <= 5:\n",
    "    print(\"still going...\")\n",
    "    counter += 1\n",
    "print(\"done!\")"
   ]
  },
  {
   "cell_type": "code",
   "execution_count": 28,
   "metadata": {
    "tags": []
   },
   "outputs": [
    {
     "name": "stdout",
     "output_type": "stream",
     "text": [
      "This function will take two user inputted integers and add them together.\n",
      "The sum of your two integers is...\n",
      "9\n"
     ]
    }
   ],
   "source": [
    "# Create a function to add 2 numbers together. Print out the number\n",
    "import time\n",
    "def addition():\n",
    "    print(\"This function will take two user inputted integers and add them together.\")\n",
    "    time.sleep(1)\n",
    "    num1 = int(input(\"What is your first integer?\"))\n",
    "    num2 = int(input(\"What is your second integer?\"))\n",
    "    print(\"The sum of your two integers is...\")\n",
    "    print(num1 + num2)\n",
    "\n",
    "addition()\n"
   ]
  },
  {
   "cell_type": "code",
   "execution_count": 32,
   "metadata": {},
   "outputs": [
    {
     "name": "stdout",
     "output_type": "stream",
     "text": [
      "This number is even.\n"
     ]
    }
   ],
   "source": [
    "# Create a function that tells you if a number is odd or even and print the result.\n",
    "def oddoreven():\n",
    "    num = int(input(\"Input a number, and this function will tell you if it is odd or even.\"))\n",
    "    if num % 2 == 0:\n",
    "        print(\"This number is even.\")\n",
    "    else:\n",
    "        print(\"This number is odd.\")\n",
    "\n",
    "oddoreven()"
   ]
  },
  {
   "cell_type": "code",
   "execution_count": 36,
   "metadata": {
    "tags": []
   },
   "outputs": [
    {
     "name": "stdout",
     "output_type": "stream",
     "text": [
      "Name: Alex\n",
      "Weight: 20 Pounds\n",
      "Height: 14 Inches\n",
      "Breed: Mixed Breed\n",
      "Alex\n"
     ]
    }
   ],
   "source": [
    "# Initialize an instance of the following class. Use a variable to store the object and then call the info function to print out the attributes.\n",
    "class Dog(object):\n",
    "    def __init__(self, name, height, weight, breed):\n",
    "        self.name = name\n",
    "        self.height = height\n",
    "        self.weight = weight\n",
    "        self.breed = breed\n",
    "\n",
    "    def info(self):\n",
    "        print(\"Name:\", self.name)\n",
    "        print(\"Weight:\", str(self.weight) + \" Pounds\")\n",
    "        print(\"Height:\", str(self.height) + \" Inches\")\n",
    "        print(\"Breed:\", self.breed)\n",
    "    \n",
    "if __name__ == \"__main__\":\n",
    "     KylesDog = Dog(\"Alex\", 14, 20, \"Mixed Breed\")\n",
    "     KylesDog.info()\n",
    "     print(KylesDog.name)\n"
   ]
  }
 ],
 "metadata": {
  "interpreter": {
   "hash": "40d3a090f54c6569ab1632332b64b2c03c39dcf918b08424e98f38b5ae0af88f"
  },
  "kernelspec": {
   "display_name": "Python 3.8.5 64-bit",
   "language": "python",
   "name": "python3"
  },
  "language_info": {
   "codemirror_mode": {
    "name": "ipython",
    "version": 3
   },
   "file_extension": ".py",
   "mimetype": "text/x-python",
   "name": "python",
   "nbconvert_exporter": "python",
   "pygments_lexer": "ipython3",
   "version": "3.8.8"
  },
  "orig_nbformat": 2
 },
 "nbformat": 4,
 "nbformat_minor": 2
}
