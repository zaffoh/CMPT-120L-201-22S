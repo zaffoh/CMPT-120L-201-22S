{
 "cells": [
  {
   "cell_type": "markdown",
   "metadata": {},
   "source": [
    "# Lab 6\n",
    "---\n",
    "### Intro to Programming\n",
    "### CMPT 120\n",
    "### Due: 04/06/2022 by Midnight\n",
    "\n",
    "For lab 6 we’re going to be developing our problem solving abilities. We have a file in our lab 6 folder. leap_year.py is what we’ll be altering. You can make another file or use the same file. Making a copy and editing the copy may be the wiser option.  \n",
    "\n",
    "I want you to complete the following:\n",
    "- Add code in the defined function to figure out whether or not the given year is a leap year or not. \n",
    "- Every year that is exactly divisible by four is a leap year, except for years that are exactly divisible by 100, but these centurial years are leap years if they are exactly divisible by 400. For example, the years 1700, 1800, and 1900 are not leap years, but the years 1600 and 2000 are. - Wikipedia\n",
    "- Take in a parameter called year and return “Is a leap year” or “Not a leap year”\n",
    "\n",
    "Commit and push your changes to GitHub, and submit a screenshot with your pushed code on GitHub to iLearn.\n",
    "\n",
    "Grading will be based on content, accuracy, thoroughness, and adherence to instructions for credit up to a single homework lab. \n",
    "\n",
    "First submit the lab by pushing your synced repository to your GitHub account on https://github.com/. Second, on iLearn, submit the lab with a screenshot of your synced repo on Github.\n"
   ]
  }
 ],
 "metadata": {
  "interpreter": {
   "hash": "6b5318982f8d72d90cd36bfa2e98546ee27090b6a028d8e71394b9f0a4a0e32e"
  },
  "kernelspec": {
   "display_name": "Python 3.9.0 64-bit ('3.9.0')",
   "language": "python",
   "name": "python3"
  },
  "language_info": {
   "name": "python",
   "version": "3.9.0"
  },
  "orig_nbformat": 4
 },
 "nbformat": 4,
 "nbformat_minor": 2
}
