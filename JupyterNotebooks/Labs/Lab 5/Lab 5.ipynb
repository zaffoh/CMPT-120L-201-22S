{
 "cells": [
  {
   "cell_type": "markdown",
   "metadata": {},
   "source": [
    "# Lab 5\n",
    "---\n",
    "### Intro to Programming\n",
    "### CMPT 120\n",
    "### Due: 03/30/2022 by Midnight\n",
    "\n",
    "For Lab 5 we’re going to be looking at making our code more streamlined. We have a file in our Lab 5 folder. wet_code.py is what we’ll be altering. You can make another file or use the same file. Making a copy and editing the copy may be the wiser option. We're also going to be messing around with Markdown!\n",
    "\n",
    "Our Goals are:\n",
    "- DRYing off code\n",
    "- Using Markdown!\n",
    "\n",
    "I want you to complete the following:\n",
    "Simplify the file by using the methodologies we used in class. Make the file in question DRY code. \n",
    "Write functions, look for magic numbers, and simplify code where applicable. When done, either in a markdown file or in this file, I want you to describe to me your process of converting the lab and making it DRY. \n",
    "\n",
    "In your Markdown please show the ability to:\n",
    "- Make a header\n",
    "- Make a list (ordered or unordered)\n",
    "- Link the Markdown Guide from the lesson. \n",
    "- Artuculate your thought process.\n",
    "\n",
    "Commit and push your changes to GitHub, and submit a screenshot with your pushed code on GitHub to iLearn.\n",
    "\n",
    "Grading will be based on content, accuracy, thoroughness, and adherence to instructions for credit up to a single homework lab. \n",
    "\n",
    "First submit the lab by pushing your synced repository to your GitHub account on https://github.com/. Second, on iLearn, submit the lab with a screenshot of your synced repo on Github.\n"
   ]
  }
 ],
 "metadata": {
  "language_info": {
   "name": "python"
  },
  "orig_nbformat": 4
 },
 "nbformat": 4,
 "nbformat_minor": 2
}
