{
 "cells": [
  {
   "cell_type": "markdown",
   "metadata": {},
   "source": [
    "# Lab 2\n",
    "### Intro to Programming\n",
    "### CMPT 120\n",
    "### Due: 02/16/2022 by Midnight\n",
    "\n",
    "\n",
    "The second assignment should also be fairly simple. We’re going to be looking at the doc on getting your forked repo synced with mine. I’d advise that you download [GitHub Desktop | Simple collaboration from your desktop.](https://desktop.github.com/) Considering dealing with terminals has been a little tedious. As shown in class it is possible to do these things in the terminal. We may want to revisit that a little further into class when people are a little more comfortable if they’d like.\n",
    "\n",
    "After doing so we need to clone your forked repo and then sync it. To do this you can follow the steps here. [Cloning a repository from GitHub to GitHub Desktop.](https://docs.github.com/en/desktop/contributing-and-collaborating-using-github-desktop/cloning-a-repository-from-github-to-github-desktop) After you clone you can look into this guide to [How to sync your forked repo with original Repo in Github Desktop.](https://stackoverflow.com/questions/46110615/how-to-sync-your-forked-repo-with-original-repo-in-github-desktop)\n",
    "\n",
    "If you didn't install Visual Studio Code in the last lab the link is [here](https://code.visualstudio.com)\n",
    "\n",
    "When you open it you'll wanna click the 4 boxes on the left bar. Type in Python and install that plugin. That will get the Jupyter support that we need.\n",
    "\n",
    "![PythonExtension](../../Assets/Images/Extensions.png)\n",
    "\n",
    "Once this is done we can open our GitHub repo which is usually downloaded to our Documents folder. I usually will open it at the folder level!\n",
    "\n",
    "![OpenFolder](../../Assets/Images/OpenFolder.png)\n",
    "\n",
    "From here open this lab in VSCode and fill out the lab below with your answers! (You may have to select a kernel, you should only have one and it'll be python unlike my screenshot) If you need to change it click the box icon in the upper right corner of the screen. (in my screenshot it has 3.9.0 next to it)\n",
    "\n",
    "![Kernels](../../Assets/Images/Kernels.png)\n",
    "\n",
    "After that you’ll need to push the changes that you synced so that I can see them and you can get credit and that is here. [Pushing changes to GitHub](https://docs.github.com/en/desktop/contributing-and-collaborating-using-github-desktop/pushing-changes-to-github)\n",
    "\n",
    "Grading will be based on content, accuracy, thoroughness, and adherence to instructions for credit up to a single homework assignment. \n",
    "\n",
    "First submit the assignment by pushing your synced repository to your GitHub account on [https://github.com/](https://github.com/). You’ll know if you did this properly because you’ll have the Lesson Two notebook. You’ll also have the file for the lab. Second, on iLearn, submit the assignment with a screenshot of your synced repo on Github.\n"
   ]
  },
  {
   "cell_type": "markdown",
   "metadata": {},
   "source": [
    "Ok for this lab we're going to reiterate a lot of the things that we went over in class.\n",
    "\n",
    "Our Goals are:\n",
    "- Defining variables\n",
    "- Using math\n",
    "- Manipulating variables\n",
    "- Changing data types\n",
    "- Playing with lists"
   ]
  },
  {
   "cell_type": "code",
   "execution_count": 2,
   "metadata": {},
   "outputs": [
    {
     "name": "stdout",
     "output_type": "stream",
     "text": [
      "1\n",
      "Hello World\n",
      "True\n",
      "1.0\n"
     ]
    }
   ],
   "source": [
    "# Define 4 variables, one of each type listed: [Integer, String, Boolean, Float]. Print all 4.\n",
    "intvar = 1\n",
    "strvar = \"Hello World\"\n",
    "boolvar = True\n",
    "floatvar = 1.0\n",
    "\n",
    "print(intvar)\n",
    "print(strvar)\n",
    "print(boolvar)\n",
    "print(floatvar)"
   ]
  },
  {
   "cell_type": "code",
   "execution_count": 3,
   "metadata": {},
   "outputs": [
    {
     "name": "stdout",
     "output_type": "stream",
     "text": [
      "12\n",
      "6\n",
      "3.0\n",
      "27\n",
      "0\n"
     ]
    }
   ],
   "source": [
    "# With whatever variables you'd like demonstrate the following: [Addition, Subtraction, Division, Multiplication, Modulo]. Print all 5.\n",
    "var1 = 9\n",
    "var2 = 3\n",
    "\n",
    "add = var1 + var2\n",
    "sub = var1 - var2\n",
    "div = var1 / var2\n",
    "mult = var1 * var2\n",
    "mod = var1 % var2\n",
    "\n",
    "print(add)\n",
    "print(sub)\n",
    "print(div)\n",
    "print(mult)\n",
    "print(mod)"
   ]
  },
  {
   "cell_type": "code",
   "execution_count": 4,
   "metadata": {},
   "outputs": [
    {
     "name": "stdout",
     "output_type": "stream",
     "text": [
      "57\n"
     ]
    }
   ],
   "source": [
    "# Using 2 variables and addition print the number 57\n",
    "hello = 23\n",
    "world = 34\n",
    "\n",
    "CMPT120 = hello + world\n",
    "\n",
    "print(CMPT120)"
   ]
  },
  {
   "cell_type": "code",
   "execution_count": 5,
   "metadata": {
    "tags": []
   },
   "outputs": [
    {
     "name": "stdout",
     "output_type": "stream",
     "text": [
      "37\n",
      "10\n",
      "299.99\n",
      "True\n"
     ]
    }
   ],
   "source": [
    "# Change this variable to a string and print\n",
    "number_into_string = str(37)\n",
    "print(number_into_string)\n",
    "\n",
    "# Change this variable to a integer and print\n",
    "string_into_number = int('10')\n",
    "print(string_into_number)\n",
    "\n",
    "# Change this variable to a float and print\n",
    "string_into_float = float('299.99')\n",
    "print(string_into_float)\n",
    "\n",
    "# Change this variable to a boolean and print\n",
    "number_into_boolean = bool(37)\n",
    "print(number_into_boolean)\n",
    "\n"
   ]
  },
  {
   "cell_type": "code",
   "execution_count": 7,
   "metadata": {},
   "outputs": [
    {
     "name": "stdout",
     "output_type": "stream",
     "text": [
      "list\n"
     ]
    }
   ],
   "source": [
    "# Make me a list of any type\n",
    "\n",
    "lst = ['this', 'is', 'a', 'list']\n",
    "\n",
    "print(lst[-1])"
   ]
  }
 ],
 "metadata": {
  "interpreter": {
   "hash": "6b5318982f8d72d90cd36bfa2e98546ee27090b6a028d8e71394b9f0a4a0e32e"
  },
  "kernelspec": {
   "display_name": "Python 3.8.5 64-bit",
   "language": "python",
   "name": "python3"
  },
  "language_info": {
   "codemirror_mode": {
    "name": "ipython",
    "version": 3
   },
   "file_extension": ".py",
   "mimetype": "text/x-python",
   "name": "python",
   "nbconvert_exporter": "python",
   "pygments_lexer": "ipython3",
   "version": "3.8.8"
  },
  "orig_nbformat": 2
 },
 "nbformat": 4,
 "nbformat_minor": 2
}
