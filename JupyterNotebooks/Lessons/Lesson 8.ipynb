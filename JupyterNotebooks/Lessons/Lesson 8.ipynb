{
 "cells": [
  {
   "cell_type": "markdown",
   "metadata": {},
   "source": [
    "# Introduction to Programming\n",
    "\n",
    "Topics for today will include:\n",
    "- 2D Arrays\n",
    "- Pip\n",
    "- Package Management\n",
    "- Virtual Environments\n",
    "    - venv\n",
    "    - Pipenv\n",
    "- Types of Programming\n",
    "    - Scripting vs OOP"
   ]
  },
  {
   "cell_type": "markdown",
   "metadata": {},
   "source": [
    "## 2D Arrays\n",
    "---\n",
    "So we've already discussed arrays. They're just lists that hold multiple values of a certain data type. What happens if we try and make a list of lists though?"
   ]
  },
  {
   "cell_type": "code",
   "execution_count": null,
   "metadata": {},
   "outputs": [],
   "source": [
    "# And Truth Table\n",
    "and_truth_table = [\n",
    "    [False, False], # Positions [0][0] and [0][1]\n",
    "    [False, True]   # Positions [1][0] and [1][1]\n",
    "]"
   ]
  },
  {
   "cell_type": "code",
   "execution_count": null,
   "metadata": {},
   "outputs": [],
   "source": [
    "# Or Truth Table\n",
    "or_truth_table = [\n",
    "    # 0      1\n",
    "    [False, True], # 0 Positions [0][0] and [0][1]\n",
    "    [True, True]   # 1 Positions [1][0] and [1][1]\n",
    "]\n",
    "\n",
    "or_truth_table = [[False, True], [True, True]] # Harder to tell what's where\n"
   ]
  },
  {
   "cell_type": "markdown",
   "metadata": {},
   "source": [
    "So if we were to think of 0 and 1 as false(0) and true(1) we can now visualize our truth table for and. 2D arrays are an integral think to understand as we start to trend towards understanding objects. The combination of data types make higher level programming more powerful and makes more complex issues simpler to decipher in a computer state.\n",
    "\n",
    "Another thing that also come with this is opening up your mind to newer ways to thinking about problems. Adding tools to your arsenal. Slowly gaining more knowledge. "
   ]
  },
  {
   "cell_type": "markdown",
   "metadata": {},
   "source": [
    "## Pip Example\n",
    "---\n",
    "\n",
    "Now although you have done this already in your lab we're going to talk in depth about installing packages with pip and will go through using one as well. So one thing to note here is that when we install things with pip they're on our machines and we don't have to reinstall them everytime. There are scenarios where this could be possible but we'll discuss those later. \n",
    "\n",
    "For this section we're going to install a package that will allow us to do something called a fuzzy search. The package that we'll be using today is called [FuzzyWuzzy](https://pypi.org/project/fuzzywuzzy/). \n",
    "\n",
    "If you're not familiar with what fuzzy search is Wikipedia defines it as the following:\n",
    "> The technique of finding strings that match a pattern approximately (rather than exactly). The problem of approximate string matching is typically divided into two sub-problems: finding approximate substring matches inside a given string and finding dictionary strings that match the pattern approximately.\n",
    "\n",
    "We're going to use this library to demo installing packages with pip.\n",
    "\n",
    "There are somethings that we need to do when we get a package and they're as follows. We need to:\n",
    "- Install the package\n",
    "- Import the package\n",
    "- Read the doc on the package to figure out how to implement it\n",
    "- Execute\n",
    "- Reap the Rewards"
   ]
  },
  {
   "cell_type": "code",
   "execution_count": 1,
   "metadata": {},
   "outputs": [
    {
     "ename": "ModuleNotFoundError",
     "evalue": "No module named 'fuzzywuzzy'",
     "output_type": "error",
     "traceback": [
      "\u001b[0;31m---------------------------------------------------------------------------\u001b[0m",
      "\u001b[0;31mModuleNotFoundError\u001b[0m                       Traceback (most recent call last)",
      "\u001b[0;32m<ipython-input-1-5797e5337375>\u001b[0m in \u001b[0;36m<module>\u001b[0;34m\u001b[0m\n\u001b[0;32m----> 1\u001b[0;31m \u001b[0;32mfrom\u001b[0m \u001b[0mfuzzywuzzy\u001b[0m \u001b[0;32mimport\u001b[0m \u001b[0mfuzz\u001b[0m\u001b[0;34m,\u001b[0m \u001b[0mprocess\u001b[0m\u001b[0;34m\u001b[0m\u001b[0;34m\u001b[0m\u001b[0m\n\u001b[0m",
      "\u001b[0;31mModuleNotFoundError\u001b[0m: No module named 'fuzzywuzzy'"
     ]
    }
   ],
   "source": [
    "from fuzzywuzzy import fuzz, process"
   ]
  },
  {
   "cell_type": "code",
   "execution_count": 2,
   "metadata": {},
   "outputs": [
    {
     "data": {
      "text/plain": [
       "87"
      ]
     },
     "execution_count": 2,
     "metadata": {},
     "output_type": "execute_result"
    }
   ],
   "source": [
    "fuzz.ratio(\"What is going on out there?\", \"Whateth is going oneth out thereth?\")"
   ]
  },
  {
   "cell_type": "code",
   "execution_count": 6,
   "metadata": {},
   "outputs": [
    {
     "data": {
      "text/plain": [
       "[('New York Jets', 90), ('New York Giants', 90)]"
      ]
     },
     "execution_count": 6,
     "metadata": {},
     "output_type": "execute_result"
    }
   ],
   "source": [
    "choices = [\"Atlanta Falcons\", \"New York Jets\", \"New York Giants\", \"Dallas Cowboys\"]\n",
    "process.extract(\"new york\", choices, limit=2)"
   ]
  },
  {
   "cell_type": "code",
   "execution_count": 7,
   "metadata": {},
   "outputs": [
    {
     "data": {
      "text/plain": [
       "('Dallas Cowboys', 90)"
      ]
     },
     "execution_count": 7,
     "metadata": {},
     "output_type": "execute_result"
    }
   ],
   "source": [
    "process.extractOne(\"cowboys\", choices)"
   ]
  },
  {
   "cell_type": "markdown",
   "metadata": {},
   "source": [
    "## Package Management\n",
    "---\n",
    "As we start to enter the world of packages we'll soon start to realize that things can get out of hand with all of the packages, and subdependencies to those packages. Soon we open up the possibility to just have too many packages installed all over the place. So we're going to take a second to talk packages and package management. \n",
    "\n",
    "A topic that will soon become important is the management of your packages. In python the more packages that we use means the more packages that we'll install. Those packages will have subpackeges and so on and so forth. This means that we need to start to look into managing these packages \n",
    "\n",
    "### [Standard Library](https://docs.python.org/3/library/)\n",
    "---\n",
    "Python's standard library is one that comes with a lot of useful tools. Like any other reputable language it does a lot of these things well and with minimal effort. Below we have a list of some of the built in standard libraries that are very useful and worth highlighting. \n",
    "\n",
    "**Math**\n",
    "\n",
    "The simplest and commonly used built in library. In here you have a lot of your standards, like more complex but common mathmatical functions. Sqrt, floor, ceiling, etc.\n",
    "\n",
    "**Argparse**\n",
    "\n",
    "Argparse is for handling arguments coming into your programs. It has the potential to be very powerful giving the ability to manage flags, Set defaults, and auto document itself if configure in the proper way. Argparse is well enough made that many applications that deal with making CLI based applications are build on top of the Argparse library.\n",
    "\n",
    "**Logging**\n",
    "\n",
    "Python's logger is another library that's simplistic but still well put together. Similar to Argparse things are typially built on top of it rather than replacing it. There's not much to say about Python's logger except to get familar with it. It's an effective tool for any Python dev. \n",
    "\n",
    "**Unit Test**\n",
    "\n",
    "In a perfect world all of our programs are unit tested and have 100% test coverage. While this remains a fallacy, Python at least has a built in library to give us hope. This is often built on top of to garner a ton of different metrics about your Python code. \n",
    "\n",
    "**Multiprocessing**\n",
    "\n",
    "Into a couple of the more \"complex\" options that we have. Python though being more trivial still has access to some powerful tools under the covers. Multiprocessing being a library that handles Multithreading and Multiprocessing allows python to create more interesting applications and offers the support with relative ease of use.\n",
    "\n",
    "**Async**\n",
    "\n",
    "Finally we'll talk about the Async library. Acynchronous programming is by no means new. Nor is it inaccessable by other languages. It is however easy to use in Python and also allows Python to keep adding to it's jack of all trades trait. \n",
    "\n",
    "### [PyPi](https://pypi.org)\n",
    "---\n",
    "The Python Package Index (PyPI) is a repository of software for the Python programming language.\n",
    "\n",
    "PyPi is the entity that manages all of the packages that Python has to offer through pip. Becoming familiar with traversing this segment of Python is an invaluable tool.\n",
    "\n",
    "Similar to Node this mass repository is a massive draw to the language. Several developers in the community contribute to the thousands of packages that are available with the help of Pip.\n",
    "\n",
    "![PyPi site](../../assets/images/pypi-webpage.png)\n",
    "\n",
    "### [Pip](https://pip.pypa.io/en/stable/)\n",
    "Pip is where things get intersting. Pip is the package installer for Python. This is the tool that paired with PyPi makes python so interesting. Pip has a ton of upsides. Ease of installation, a mass amount of installable packages at your fingertips spanning several different areas of subject matter, a community that often knows exactly what package you need for what scenario.\n",
    "\n",
    "Pip is included with Python and is often used in many python projects. Pip is nice because with a simple command of 'pip install <package-name>'. Your package is installed and you're good to import it in your projects! An upside that pip provides is that if there are dependencies for the package that you're installing pip will take care of it for you. This makes installing packages a breeze and give you a lot of power when it comes to developing with Python.\n",
    "\n",
    "**Note: This next section was taken from the Pip documentation. For more detail visit one of the links below and you'll recieve the full version of the documentation.*\n",
    "\n",
    "### [Running pip](https://pip.pypa.io/en/stable/user_guide/#running-pip)\n",
    "pip is a command line program. When you install pip, a pip command is added to your system, which can be run from the command prompt as follows:\n",
    "\n",
    "```\n",
    "$ pip <pip arguments>\n",
    "```\n",
    "If you cannot run the pip command directly (possibly because the location where it was installed isn’t on your operating system’s PATH) then you can run pip via the Python interpreter:\n",
    "\n",
    "```\n",
    "$ python -m pip <pip arguments>\n",
    "```\n",
    "On Windows, the py launcher can be used:\n",
    "\n",
    "```\n",
    "$ py -m pip <pip arguments>\n",
    "```\n",
    "Even though pip is available from your Python installation as an importable module, via import pip, it is not supported to use pip in this way. For more details, see Fixing conflicting dependencies.\n",
    "\n",
    "### [Installing Packages](https://pip.pypa.io/en/stable/user_guide/#id12)\n",
    "pip supports installing from PyPI, version control, local projects, and directly from distribution files.\n",
    "\n",
    "The most common scenario is to install from PyPI using Requirement Specifiers\n",
    "```\n",
    "$ pip install SomePackage            # latest version\n",
    "$ pip install SomePackage==1.0.4     # specific version\n",
    "$ pip install 'SomePackage>=1.0.4'     # minimum version\n",
    "```\n",
    "For more information and examples, see the pip install reference.\n",
    "\n",
    "Now for some of the down sides. With all of that being said with everyone relying on pip there is often the case of you having a ton of pip installed packages on your machine. While this isn't the biggest deal some people don't like having a lot of things installed on their machines. You can also run into the issue where you need different versions of the same package for different project and this isn't naturally supported. Typically you have a range of versions that are applicable and you don't run into the issue where this would happen but it is possible. \n",
    "\n",
    "This in itself isn't the worst thing to have to deal with. There are ways around it by managing package versions if you want to. No one wants to do that manually. Something that you also don't want to have to do is have a person have to manually install every package that you have installed if you want to share your code. Luckily through the use of things like virtual environments and a requirements.txt we can circumnavigate the downsides. \n",
    "\n"
   ]
  },
  {
   "cell_type": "markdown",
   "metadata": {},
   "source": [
    "## Virtual Environments\n",
    "---\n",
    "In the pip section we talked about packages having the ability to get out of hand depending on the number of packages as well as needing different versions of the same package. With some of the methods that we're about to discuss we can solve some of those issues.\n",
    "\n",
    "Virtual environments are a way to be able to manage multiple segments of python running in parallel on your machine. Each virtual enviorment basically acts as is it was it's own isolated instance of python. That means no more having to deal with version mismatching on projects that have a library incommon but need different versions. \n",
    "\n",
    "One of the upsides to virtual environments is that packages installed in a virtual enviornment are only visible inside of that particular virtual enviornment. Think super scaled down VM or Container. It's sort of like that. \n",
    "\n",
    "There are a plethora of reasons to use a virtual enviorment, here are some examples:\n",
    "\n",
    "> - You’re developing multiple projects that depend on different versions of the same packages, or you have a project that must be isolated from certain packages because of a namespace collision. This is the most standard use case.\n",
    "\n",
    "> - You’re working in a Python environment where you can’t modify the site-packages directory. This may be because you’re working in a highly controlled environment, such as managed hosting, or on a server where the choice of interpreter (or packages used in it) can’t be changed because of production requirements.\n",
    "\n",
    "> - You want to experiment with a specific combination of packages under highly controlled circumstances, for instance to test cross-compatibility or backward compatibility.\n",
    "\n",
    "> - You want to run a “baseline” version of the Python interpreter on a system with no third-party packages, and only install third-party packages for each individual project as needed.\n",
    "\n",
    "> - Nothing says you can’t simply unpack a Python library into a subfolder of a project and use it that way. Likewise, you could download a standalone copy of the Python interpreter, unpack it into a folder, and use it to run scripts and packages devoted to it.\n",
    "\n",
    "> From [InfoWorld](https://www.infoworld.com/article/3239675/virtualenv-and-venv-python-virtual-environments-explained.html)\n",
    "\n",
    "In a normal instance this could be a deal breaker for most using Python as a main language. With the help of virtual environments we can avoid the headache of having to deal with managing all of these package that can sometimes be just thrown together. Isolating them out and not having to deal with dependency mismatches and what not makes learning how to use virtual enviorments a necessity for most.\n",
    "\n",
    "For the next section this should be treated as more of a history lesson in most aspects. We say this because penultimatly we'd reccommend that you use pipenv and pipfiles. It's also important to know about these other versions of virtual environments and how they came to be. This way when you hear about it it's not something new, it's something that has it's place in the grand scheme of things. Granted there's a holy war of sorts about venv vs pipenv but we'll get into that in a second. \n",
    "\n",
    "### virtualenv/venv\n",
    "So to start off we have 2 packages. The reason that we're starting off with 2 instead of one is that they're basically the same with some minor differences. Plus one's basically deprecated(not recommended for direct use) but that's besides the point.\n",
    "\n",
    "First a little bit about virtualenv. Virtualenv was a third party library created to make virtual environments so that we can have all of the great things we talked about above. Except this is the library that's basically deprecated. So what happened? \n",
    "\n",
    "**[Virtualenv](https://virtualenv.pypa.io/en/latest/)**  \n",
    "Virtualenv was a library primarily used in python 2 and python 3 up to version 3.3 of python. At version 3.3 of python virtualenv was taken into venv and venv is now a build in package of python. That being said virtualenv is still around but mostly only as a base to venv. Basically there was a Unix/Linux like split and no one cares about one side of the split anymore but continues to use the other side for it's resources. \n",
    "\n",
    "**[venv](https://docs.python.org/3/library/venv.html)**  \n",
    "Then we get into venv and find the first combatant in the holy war. Venv is great! It does all of the things that we listed above. Gives us that virtual instance that we can sandbox in and makes life great. \n",
    "\n",
    "venv as stated before is a built in library. Making it another amazing addiditon to the build in libraries that python has. It's also fairly simple to setup. \n",
    "\n",
    "To create a virtual environment type:\n",
    "```\n",
    "$ python3 -m venv /path/to/directory\n",
    "```\n",
    "\n",
    "depending on what OS and shell you're using the command to activate it differs a little bit. \n",
    "\n",
    "On Unix or MacOS, using the bash shell: `source /path/to/venv/bin/activate`\n",
    "\n",
    "On Unix or MacOS, using the csh shell: `source /path/to/venv/bin/activate.csh`\n",
    "\n",
    "On Unix or MacOS, using the fish shell: `source /path/to/venv/bin/activate.fish`\n",
    "\n",
    "On Windows using the Command Prompt: `path\\to\\venv\\Scripts\\activate.bat`\n",
    "\n",
    "On Windows using PowerShell: `path\\to\\venv\\Scripts\\Activate.ps1`\n",
    "\n",
    "**Note: Activate and create commands are referenced from [InfoWorld](https://www.infoworld.com/article/3239675/virtualenv-and-venv-python-virtual-environments-explained.html). They offer a simplistic guide to setting up venvs*\n",
    "\n",
    "Once setup and activated things work as normal for the most part. As long as you're in the bounds of the project that you defined you're inside of your virtual environment. You can pip install inside of here and things will be kept in the bounds of the venv.\n",
    "\n",
    "### [direnv](https://direnv.net)\n",
    "Direnv use a similar concept as to what we've been discussing but does it on a directory by directory basis. This lightweight application uses similar constructs to provide a virtual instance and up's the ante by trying to be language agnostic as well. \n",
    "\n",
    "For the purpose of the talk we won't get into it too too much since it's not one of the majorly recommended options but it is an option that some take for virtualization.\n",
    "\n",
    "### [pipenv](https://pipenv.pypa.io/en/latest/)\n",
    "Next up is pipenv. This is our second combatant in the holy war of virtual enviornments. Pipenv is basically venv with some added functionality. \n",
    "\n",
    "The goal of pipenv is to bring the feel of npm to python. For those unfamiliar with npm it seamlessly manages your packages and allows you to have the option to save the packages needed as it pertains to a project. You can save packages into different categories mainly dev packages and packages to run the application. \n",
    "\n",
    "This is a pretty lofy goal that pipenv does fairly well. It also does all of this while giving us access to being in a virtual enviroment while doing so. \n",
    "\n",
    "Pipenv is a third party package that can be installed using \n",
    "```\n",
    "$ pip install --user pipenv\n",
    "```\n",
    "\n",
    "You can then create a virtual environment using\n",
    "```\n",
    "$ pipenv --two\n",
    "```\n",
    "\n",
    "for python 2 or\n",
    "\n",
    "```\n",
    "$ pipenv --three\n",
    "```\n",
    "for python 3\n",
    "\n",
    "Once done we have the same concepts as working in venv. We can then do a \n",
    "```\n",
    "$ pipenv shell\n",
    "```\n",
    "\n",
    "to access the virtual environment. \n",
    "\n",
    "The main difference here is that instead of using `pip install <package-name>` we'd use `pipenv install <package-name>`\n",
    "\n",
    "We do this to make use of Pipfiles!\n",
    "\n",
    "### pipfile\n",
    "So for the final portion of virtual environments we'll talk pipfiles. They're alot like the requirement.txt that were mentioned previously and basically do the same thing. \n",
    "\n",
    "The main discernable difference is the ability to divy up packages that need to be run in development vs production. It's capable of flagging those differences in the same file. Our pipfile. \n",
    "\n",
    "There's also one issue that we haven't touched on and it's dependency management when it comes to versioning! Pipenv and pipfiles actually check to make sure that you can install the proper versions of all of your dependencies taking the onus off of the user.\n",
    "\n",
    "### Wrapping up\n",
    "Virtual environments make our lives simpler and should be used. While not always necessary they come in handy when we're starting to move towards production level work."
   ]
  },
  {
   "cell_type": "markdown",
   "metadata": {},
   "source": [
    "## Types of Programming\n",
    "---\n",
    "\n",
    "### Functional\n",
    "By Wikipedia's definition functional programming tries to operate in the following manner. \n",
    "\n",
    "> In computer science, functional programming is a programming paradigm where programs are constructed by applying and composing functions. It is a declarative programming paradigm in which function definitions are trees of expressions that each return a value, rather than a sequence of imperative statements which change the state of the program.\n",
    "\n",
    "So for functional programming all statements are treated as if they were a mathematical equation and any forms of state or leaving data mutable are avoided. This is great for parallel processing because we don't have to keep track of what's happening across the processes. This is typically used for recursion and for lambda calculus. \n",
    "\n",
    "In the most simplistic terms, the functional coding style treats everything like a math equation. \n",
    "\n",
    "### Imperative\n",
    "By Wikipedia's definition functional programming tries to operate in the following manner. \n",
    "\n",
    "> In computer science, imperative programming is a programming paradigm that uses statements that change a program's state. In much the same way that the imperative mood in natural languages expresses commands, an imperative program consists of commands for the computer to perform. Imperative programming focuses on describing how a program operates.\n",
    "\n",
    "So, for imperative programming we're looking to just directly access the program state. We're not worried about using particular styles in order to achieve our goals. This is perfect for accessing and manipulating data structures and produces super simplistic code that maintains an elegant look. \n",
    "\n",
    "For imperative programming we're only focused on how the program operates. We'll change the system state and information as needed to get to our goals.\n",
    "\n",
    "### Object Oriented\n",
    "By Wikipedia's definition functional programming tries to operate in the following manner. \n",
    "\n",
    "> Object-oriented programming (OOP) is a programming paradigm based on the concept of \"objects\", which can contain data and code: data in the form of fields (often known as attributes or properties), and code, in the form of procedures (often known as methods).\n",
    "\n",
    ">A feature of objects is that an object's own procedures can access and often modify the data fields of itself (objects have a notion of this or self). In OOP, computer programs are designed by making them out of objects that interact with one another. OOP languages are diverse, but the most popular ones are class-based, meaning that objects are instances of classes, which also determine their types\n",
    "\n",
    "With object oriented programming there is a large emphasis on encapsulation. This means that we want all of our data and functions to be inside of a class. This means that we're heavily dependent on data being treated as objects and only accessing and manipulating them in a certain manner. \n",
    "\n",
    "While python has the ability to dabble in the OOP space it's not the best for it. It doesn't support true encapsulation.\n",
    "\n",
    "Object oriented code puts a major emphasis on reuseability. It also focuses on understanding things as entities, such as an animals relation to being a mammal. Then the same with as a mammal to a dog. This is something that object oriented code has called inheritance where we can chain classes that are related. On the encapsulation front this typically would allow us to look at the code like a black box from the outside. Keeping things pertaining to the object as private. \n",
    "\n",
    "### Procedural\n",
    "By Wikipedia's definition functional programming tries to operate in the following manner.\n",
    "\n",
    ">Procedural programming is a programming paradigm, derived from structured programming, based on the concept of the procedure call. Procedures (a type of routine or subroutine) simply contain a series of computational steps to be carried out. Any given procedure might be called at any point during a program's execution, including by other procedures or itself.\n",
    "\n",
    "Last but not least comes procedural programming which should seem familiar. Procedural programming puts an emphasis on formatting commands into functions where those functions can then be called as need be. There's a big influence on modularization. Python does this well. \n",
    "\n",
    "Doing things in a procedural manner make our code modularized which in turn in easier to manage. This breaks our code down into smaller pieces that when all are doing their jobs properly can come together and systematically get the job done.\n",
    "\n"
   ]
  },
  {
   "cell_type": "markdown",
   "metadata": {},
   "source": [
    "### Examples of the Programming Types\n",
    "---\n",
    "We're going to demonstrate all of the different types by getting the sum of a list of numbers.\n",
    "\n",
    "**Functional**\n",
    "\n",
    "So for this we can either use a predefined local function or use a lambda function. In this example we'll use a local function. "
   ]
  },
  {
   "cell_type": "code",
   "execution_count": 6,
   "metadata": {},
   "outputs": [
    {
     "name": "stdout",
     "output_type": "stream",
     "text": [
      "45\n"
     ]
    }
   ],
   "source": [
    "import functools\n",
    "\n",
    "array = [0, 1, 2, 3, 4, 5, 6, 7, 8, 9]\n",
    "\n",
    "def addition(x, y):\n",
    "    return (x + y)\n",
    "\n",
    "total = functools.reduce(addition, array)\n",
    "\n",
    "print(total)"
   ]
  },
  {
   "cell_type": "markdown",
   "metadata": {},
   "source": [
    "We can also lambda functions to achieve similar things. We'll square and double all of the numbers here."
   ]
  },
  {
   "cell_type": "code",
   "execution_count": 7,
   "metadata": {},
   "outputs": [
    {
     "name": "stdout",
     "output_type": "stream",
     "text": [
      "[0, 1, 4, 9, 16, 25, 36, 49, 64, 81]\n",
      "[0, 2, 4, 6, 8, 10, 12, 14, 16, 18]\n"
     ]
    }
   ],
   "source": [
    "square = lambda x: x**2\n",
    "double = lambda x: x + x\n",
    "\n",
    "print(list(map(square, array)))\n",
    "print(list(map(double, array)))"
   ]
  },
  {
   "cell_type": "markdown",
   "metadata": {},
   "source": [
    "Here's the sum using lambda functions."
   ]
  },
  {
   "cell_type": "code",
   "execution_count": 8,
   "metadata": {},
   "outputs": [
    {
     "name": "stdout",
     "output_type": "stream",
     "text": [
      "45\n"
     ]
    }
   ],
   "source": [
    "total = functools.reduce(lambda x, y: x + y, array)\n",
    "\n",
    "print(total)"
   ]
  },
  {
   "cell_type": "markdown",
   "metadata": {},
   "source": [
    "**Imperative**\n",
    "\n",
    "In a more imperative approach we're just focused on achieving our goals. Super simplistic."
   ]
  },
  {
   "cell_type": "code",
   "execution_count": 9,
   "metadata": {},
   "outputs": [
    {
     "name": "stdout",
     "output_type": "stream",
     "text": [
      "45\n"
     ]
    }
   ],
   "source": [
    "total = 0\n",
    "\n",
    "for number in array:\n",
    "    total += number\n",
    "\n",
    "print(total)"
   ]
  },
  {
   "cell_type": "markdown",
   "metadata": {},
   "source": [
    "**Object Oriented**\n",
    "\n",
    "For our object oriented style we're focused on containerizing things in objects using classes. "
   ]
  },
  {
   "cell_type": "code",
   "execution_count": 10,
   "metadata": {},
   "outputs": [
    {
     "name": "stdout",
     "output_type": "stream",
     "text": [
      "45\n"
     ]
    }
   ],
   "source": [
    "class Summation(object):\n",
    "    def __init__(self, array):\n",
    "        self.array = array\n",
    "\n",
    "    def summation(self):\n",
    "        self.total = sum(self.array)\n",
    "\n",
    "array_total = Summation(array)\n",
    "array_total.summation()\n",
    "print(array_total.total)"
   ]
  },
  {
   "cell_type": "markdown",
   "metadata": {},
   "source": [
    "**Procedural**\n",
    "\n",
    "Finally we have our procedural method. We're going to create a function to do the deed for us. "
   ]
  },
  {
   "cell_type": "code",
   "execution_count": 14,
   "metadata": {},
   "outputs": [
    {
     "name": "stdout",
     "output_type": "stream",
     "text": [
      "45\n"
     ]
    }
   ],
   "source": [
    "def summation(array):\n",
    "    total = 0\n",
    "\n",
    "    for number in array:\n",
    "        total += number\n",
    "\n",
    "    return total\n",
    "\n",
    "print(summation(array))"
   ]
  },
  {
   "cell_type": "code",
   "execution_count": null,
   "metadata": {},
   "outputs": [],
   "source": []
  }
 ],
 "metadata": {
  "kernelspec": {
   "display_name": "Python 3.9.0 64-bit ('3.9.0': pyenv)",
   "name": "python390jvsc74a57bd07aab79e3e76a264c6abda742106754ed901bc46a10cabaee4e0b7d64e4dbbe7f"
  },
  "language_info": {
   "codemirror_mode": {
    "name": "ipython",
    "version": 3
   },
   "file_extension": ".py",
   "mimetype": "text/x-python",
   "name": "python",
   "nbconvert_exporter": "python",
   "pygments_lexer": "ipython3",
   "version": "3.9.0"
  },
  "orig_nbformat": 2
 },
 "nbformat": 4,
 "nbformat_minor": 2
}