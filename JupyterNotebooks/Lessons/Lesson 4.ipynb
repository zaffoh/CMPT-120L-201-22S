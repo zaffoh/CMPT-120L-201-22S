{
 "metadata": {
  "language_info": {
   "codemirror_mode": {
    "name": "ipython",
    "version": 3
   },
   "file_extension": ".py",
   "mimetype": "text/x-python",
   "name": "python",
   "nbconvert_exporter": "python",
   "pygments_lexer": "ipython3",
   "version": "3.9.1-final"
  },
  "orig_nbformat": 2,
  "kernelspec": {
   "name": "python3",
   "display_name": "Python 3.9.1 64-bit",
   "metadata": {
    "interpreter": {
     "hash": "aee8b7b246df8f9039afb4144a1f6fd8d2ca17a180786b69acc140d282b71a49"
    }
   }
  }
 },
 "nbformat": 4,
 "nbformat_minor": 2,
 "cells": [
  {
   "source": [
    "# Introduction to Programming\n",
    "\n",
    "Topics for today will include:\n",
    "- Mozilla Developer Network [(MDN)](https://developer.mozilla.org/en-US/)\n",
    "- Python Documentation [(Official Documentation)](https://docs.python.org/3/)\n",
    "- Importance of Design\n",
    "- Functions\n",
    "- Built in Functions"
   ],
   "cell_type": "markdown",
   "metadata": {}
  },
  {
   "source": [
    "## Mozilla Developer Network [(MDN)](https://developer.mozilla.org/en-US/)\n",
    "---\n",
    "The Mozilla Developer Network is a great resource for all things web dev. This site is good for trying to learn about standards as well as finding out quick information about something that you're trying to do Web Dev Wise\n",
    "\n",
    "This will be a major resource going forward when it comes to doing things with HTML and CSS\n",
    "\n",
    "You'll often find that you're not the first to try and do something. That being said you need to start to get comfortable looking for information on your own when things go wrong."
   ],
   "cell_type": "markdown",
   "metadata": {}
  },
  {
   "source": [
    "## Python Documentation [(Official Documentation)](https://docs.python.org/3/)\n",
    "---\n",
    "This section is similar to the one above. Python has a lot of resources out there that we can utilize when we're stuck or need some help with something that we may not have encountered before.\n",
    "\n",
    "Since this is the official documentation page for the language you may often be given too much information or something that you wanted but in the wrong form or for the wrong version of the language. It is up to you to learn how to utilize these things and use them to your advantage. "
   ],
   "cell_type": "markdown",
   "metadata": {}
  },
  {
   "source": [
    "## Importance of Design\n",
    "---\n",
    "So this is a topic that i didn't learn the importance of until I was in the work force. Design is a major influence in the way that code is build and in a major capacity and significant effect on the industry. \n",
    "\n",
    "Let's pretend we have a client that wants us to do the following:\n",
    "- Write a function which will count the number of times any one character appears in a string of characters. \n",
    "- Write a main function which takes the character to be counted from the user and calls the function, outputting the result to the user.\n",
    "\n",
    "For example, are you like Android and take the latest and greatest and put them into phones in an unregulated hardware market. Thus leaving great variability in the market for your brand? Are you an Apple where you control the full stack. Your hardware and software may not be bleeding edge but it's seamless and uniform.\n",
    "\n",
    "What does the market want? What are you good at? Do you have people around you that can fill your gaps?\n",
    "\n",
    "Here's a blurb from a friend about the matter:\n",
    ">Design, often paired with the phrase \"design thinking\", is an approach and method of problem solving that builds empathy for user(s) of a product, resulting in the creation of a seamless and delightful user experience tailored to the user's needs.\n",
    "\n",
    ">Design thinks holistically about the experience that a user would go through when encountering and interacting with a product or technology. Design understands the user and their needs in great detail so that the product team can build the product and experience that fits what the user is looking for. We don't want to create products for the sake of creating them, we want to ensure that there is a need for it by a user.\n",
    "\n",
    ">Design not only focuses on the actual interface design of a product, but can also ensure the actual technology has a seamless experience as well. Anything that blocks potential users from wanting to buy a product or prohibits current users from utilizing the product successfully, design wants to investigate. We ensure all pieces fit together from the user's standpoint, and we work to build a bridge between the technology and the user, who doesn't need to understand the technical depths of the product.\n",
    "\n",
    "### Sorting Example [(Toptal Sorting Algorithms)](https://www.toptal.com/developers/sorting-algorithms)\n",
    "---\n",
    "Hypothetical, a client comes to you and they want you sort a list of numbers how do you optimally sort a list? `[2, 5, 6, 1, 4, 3]`\n",
    "\n",
    "### Design Thinking [(IBM Design Thinking)](https://www.ibm.com/design/thinking/)\n",
    "---\n",
    "As this idea starts to grow you come to realize that different companies have different design methodologies. IBM has it's own version of Design Thinking. You can find more information about that at the site linked in the title. IBM is very focused on being exactly like its customers in most aspects. \n",
    "\n",
    "What we're mostly going to take from this is that there are entire careers birthed from thinking before you act. That being said we're going to harp on a couple parts of this.\n",
    "\n",
    "### Knowing what your requirements are\n",
    "---\n",
    "One of the most common scenarios to come across is a product that is annouced that's going to change everything. In the planning phase everyone agrees that the idea is amazing and going to solve all of our problems. \n",
    "\n",
    "We get down the line and things start to fall apart, we run out of time. Things ran late, or didn't come in in time pushing everything out. \n",
    "\n",
    "Scope creep ensued.\n",
    "\n",
    "This is typically the result of not agreeing on what our requirements are. Something as basic as agreeing on what needs to be done needs to be discussed and checked on thouroughly. We do this because often two people rarely are thinking exactly the same thing.\n",
    "\n",
    "You need to be on the same page as your client and your fellow developers as well. If you don't know ask. \n",
    "\n",
    "### Planning Things Out\n",
    "---\n",
    "We have an idea on what we want to do. So now we just write it? No, not quite. We need to have a rough plan on how we're going to do things. Do we want to use functions, do we need a quick solution, is this going to be verbose and complex? \n",
    "\n",
    "It's important to look at what we can set up for ourselves. We don't need to make things difficult by planning things out poorly. This means allotting time for things like getting stuck and brainstorming.\n",
    "\n",
    "### Breaking things down\n",
    "---\n",
    "Personally I like to take my problem and scale it down into an easy example so in the case of our problem. The client may want to process a text like Moby Dick. We can start with a sentence and work our way up!\n",
    "\n",
    "Taking the time to break things in to multiple pieces and figure out what goes where is an art in itself.\n"
   ],
   "cell_type": "markdown",
   "metadata": {}
  },
  {
   "cell_type": "code",
   "execution_count": 2,
   "metadata": {
    "tags": []
   },
   "outputs": [
    {
     "output_type": "stream",
     "name": "stdout",
     "text": [
      "4\n"
     ]
    }
   ],
   "source": [
    "def char_finder(character, string):\n",
    "    total = 0\n",
    "    for char in string:\n",
    "        if char == character:\n",
    "            total += 1\n",
    "\n",
    "    return total\n",
    "    \n",
    "if __name__ == \"__main__\":\n",
    "    output = char_finder('o', 'Quick brown fox jumped over the lazy dog')\n",
    "    print(output)\n"
   ]
  },
  {
   "source": [
    "## Functions\n",
    "---\n",
    "This is a intergral piece of how we do things in any programming language. This allows us to repeat instances of code that we've seen and use them at our preferance.\n",
    "\n",
    "We'll often be using functions similar to how we use variables and our data types.\n",
    "\n",
    "### Making Our Own Functions\n",
    "---\n",
    "So to make a functions we'll be using the `def` keyword followed by a name and then parameters. We've seen this a couple times now in code examples.\n",
    "```\n",
    "def exampleName(exampleParameter1, exampleParameter2):\n",
    "    print(exampleParameter1, exampleParameter2)\n",
    "```\n",
    "\n",
    "There are many ways to write functions, we can say that we're going return a specific type of data type.\n",
    "```\n",
    "def exampleName(exampleParameter1, exampleParameter2) -> any:\n",
    "    print(exampleParameter1, exampleParameter2)\n",
    "```\n",
    "\n",
    "We can also specify the types that the parameters are going to be. \n",
    "```\n",
    "def exampleName(exampleParameter1: any, exampleParameter2: any) -> any:\n",
    "    print(exampleParameter1, exampleParameter2)\n",
    "```\n",
    "\n",
    "Writing functions is only one part of the fun. We still have to be able to use them. \n",
    "\n"
   ],
   "cell_type": "markdown",
   "metadata": {}
  },
  {
   "source": [
    "### Using functions\n",
    "---\n",
    "Using functions is fairly simple. To use a function all we have to do is give the function name followed by parenthesis. This should seem familiar."
   ],
   "cell_type": "markdown",
   "metadata": {}
  },
  {
   "cell_type": "code",
   "execution_count": 12,
   "metadata": {
    "tags": []
   },
   "outputs": [
    {
     "output_type": "stream",
     "name": "stdout",
     "text": [
      "\n"
     ]
    },
    {
     "output_type": "execute_result",
     "data": {
      "text/plain": [
       "104"
      ]
     },
     "metadata": {},
     "execution_count": 12
    }
   ],
   "source": [
    "def exampleName(exampleParameter1: int, exampleParameter2: int) -> None:\n",
    "    # print(exampleParameter1, exampleParameter2)\n",
    "    return exampleParameter1 + exampleParameter2\n",
    "\n",
    "print()\n",
    "exampleName(10, 94)"
   ]
  },
  {
   "source": [
    "### Functions In Classes\n",
    "---\n",
    "Now we've mentioned classes before, classes can have functions but they're used a little differently. Functions that stem from classes are used often with a dot notation. "
   ],
   "cell_type": "markdown",
   "metadata": {}
  },
  {
   "source": [
    "class Person:\n",
    "    def __init__(self, weight: int, height: int, name: str):\n",
    "        self.weight = weight\n",
    "        self.height = height\n",
    "        self.name = name\n",
    "\n",
    "    def who_is_this(self):\n",
    "        print(\"This person's name is \" + self.name)\n",
    "        print(\"This person's weight is \" + str(self.weight) + \" pounds\")\n",
    "        print(\"This person's height is \" + str(self.height) + \" inches\")\n",
    "    \n",
    "if __name__ == \"__main__\":\n",
    "    Kipp = Person(225, 70, \"Aaron Kippins\")\n",
    "    Kipp.who_is_this()"
   ],
   "cell_type": "code",
   "metadata": {
    "tags": []
   },
   "execution_count": 4,
   "outputs": [
    {
     "output_type": "stream",
     "name": "stdout",
     "text": "This person's name is Aaron Kippins\nThis person's weight is 225 pounds\nThis person's height is 70 inches\n"
    }
   ]
  },
  {
   "source": [
    "## Built in Functions and Modules\n",
    "---\n",
    "With the talk of dot notation those are often used with built in functions. Built in function are functions that come along with the language. These tend to be very useful because as we start to visit more complex issues they allow us to do complexs thing with ease in some cases.\n",
    "\n",
    "We have functions that belong to particular classes or special things that can be done with things of a certain class type. \n",
    "\n",
    "Along side those we can also have Modules. Modules are classes or functions that other people wrote that we can import into our code to use.\n",
    "\n"
   ],
   "cell_type": "markdown",
   "metadata": {}
  },
  {
   "source": [
    "### Substrings\n",
    "---\n"
   ],
   "cell_type": "markdown",
   "metadata": {}
  },
  {
   "cell_type": "code",
   "execution_count": 14,
   "metadata": {
    "tags": []
   },
   "outputs": [
    {
     "output_type": "stream",
     "name": "stdout",
     "text": [
      "I want to go to Cancun!\n"
     ]
    }
   ],
   "source": [
    "string = \"I want to go home!\"\n",
    "print(string[0:12], \"to Cancun!\")\n",
    "# print(string[0:1])"
   ]
  },
  {
   "source": [
    "### toUpper toLower\n",
    "---\n",
    "\n"
   ],
   "cell_type": "markdown",
   "metadata": {}
  },
  {
   "cell_type": "code",
   "execution_count": 2,
   "metadata": {
    "tags": []
   },
   "outputs": [
    {
     "output_type": "stream",
     "name": "stdout",
     "text": "Quick Brown Fox Jumped Over The Lazy Dog\nQUICK BROWN FOX JUMPED OVER THE LAZY DOG\nquick brown fox jumped over the lazy dog\nsentence is all lowercase\n"
    }
   ],
   "source": [
    "alpha_sentence = 'Quick brown fox jumped over the lazy dog'\n",
    "print(alpha_sentence.title())\n",
    "print(alpha_sentence.upper())\n",
    "print(alpha_sentence.lower())\n",
    "if alpha_sentence.lower().islower():\n",
    "    print(\"sentence is all lowercase\")\n",
    "\n"
   ]
  },
  {
   "source": [
    "### Exponents\n",
    "---\n"
   ],
   "cell_type": "markdown",
   "metadata": {}
  },
  {
   "cell_type": "code",
   "execution_count": 17,
   "metadata": {
    "tags": []
   },
   "outputs": [
    {
     "output_type": "stream",
     "name": "stdout",
     "text": [
      "32\n"
     ]
    }
   ],
   "source": [
    "print(2 ** 5)"
   ]
  },
  {
   "source": [
    "### math.sqrt()\n",
    "---"
   ],
   "cell_type": "markdown",
   "metadata": {}
  },
  {
   "cell_type": "code",
   "execution_count": 14,
   "metadata": {
    "tags": []
   },
   "outputs": [
    {
     "output_type": "execute_result",
     "data": {
      "text/plain": "2.0"
     },
     "metadata": {},
     "execution_count": 14
    }
   ],
   "source": [
    "import math\n",
    "\n",
    "math.sqrt(4)"
   ]
  },
  {
   "source": [
    "### Integer Division vs Float Division\n",
    "---\n"
   ],
   "cell_type": "markdown",
   "metadata": {}
  },
  {
   "cell_type": "code",
   "execution_count": 3,
   "metadata": {
    "tags": []
   },
   "outputs": [
    {
     "output_type": "stream",
     "name": "stdout",
     "text": "2\n2.0\n"
    }
   ],
   "source": [
    "print(4//2)\n",
    "print(4/2)"
   ]
  },
  {
   "source": [
    "### Abs()\n",
    "---"
   ],
   "cell_type": "markdown",
   "metadata": {}
  },
  {
   "cell_type": "code",
   "execution_count": 17,
   "metadata": {},
   "outputs": [
    {
     "output_type": "execute_result",
     "data": {
      "text/plain": "10"
     },
     "metadata": {},
     "execution_count": 17
    }
   ],
   "source": [
    "abs(-10)"
   ]
  },
  {
   "source": [
    "### String Manipulation\n",
    "---"
   ],
   "cell_type": "markdown",
   "metadata": {}
  },
  {
   "cell_type": "code",
   "execution_count": 21,
   "metadata": {
    "tags": []
   },
   "outputs": [
    {
     "output_type": "stream",
     "name": "stdout",
     "text": [
      "-----Hey there I'm just a string for the example about to happen.-----\n(\"Hey there I'm just a string f\", 'o', 'r the example about to happen.')\nhEY THERE i'M JUST A STRING FOR THE EXAMPLE ABOUT TO HAPPEN.\n['Hey', 'there', \"I'm\", 'just', 'a', 'string', 'for', 'the', 'example', 'about', 'to', 'happen.']\n"
     ]
    }
   ],
   "source": [
    "dummy_string = \"Hey there I'm just a string for the example about to happen.\"\n",
    "\n",
    "print(dummy_string.center(70, \"-\"))\n",
    "print(dummy_string.partition(\"o\"))\n",
    "print(dummy_string.swapcase())\n",
    "print(dummy_string.split(\" \"))"
   ]
  },
  {
   "source": [
    "### Array Manipulation\n",
    "---"
   ],
   "cell_type": "markdown",
   "metadata": {}
  },
  {
   "cell_type": "code",
   "execution_count": 2,
   "metadata": {
    "tags": []
   },
   "outputs": [
    {
     "output_type": "stream",
     "name": "stdout",
     "text": "[1, 2, 3, 4, 5, 6]\n4\n"
    }
   ],
   "source": [
    "arr = [2, 5, 6, 1, 4, 3]\n",
    "arr.sort()\n",
    "print(arr)\n",
    "print(arr[3])\n",
    "# sorted(arr)\n",
    "print(arr[1:3])\n",
    "\n"
   ]
  },
  {
   "source": [
    "### Insert and Pop, Append and Remove\n",
    "---\n"
   ],
   "cell_type": "markdown",
   "metadata": {}
  },
  {
   "cell_type": "code",
   "execution_count": 29,
   "metadata": {
    "tags": []
   },
   "outputs": [
    {
     "output_type": "stream",
     "name": "stdout",
     "text": "[1, 2, 3, 4, 5, 6, 7, 7]\n[1, 2, 3, 4, 5, 6, 7]\n"
    }
   ],
   "source": [
    "arr.append(7)\n",
    "print(arr)\n",
    "\n",
    "arr.pop()\n",
    "print(arr)"
   ]
  },
  {
   "cell_type": "code",
   "execution_count": null,
   "metadata": {},
   "outputs": [],
   "source": []
  }
 ]
}