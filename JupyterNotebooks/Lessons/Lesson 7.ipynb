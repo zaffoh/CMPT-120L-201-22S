{
 "cells": [
  {
   "cell_type": "markdown",
   "metadata": {},
   "source": [
    "# Introduction to Programming\n",
    "\n",
    "Topics for today will include:\n",
    "- Demo Pygame\n",
    "- Pep8\n",
    "- Extensions\n",
    "- Improving Problem Solving"
   ]
  },
  {
   "cell_type": "markdown",
   "metadata": {},
   "source": [
    "## Demo Pygame\n",
    "---\n",
    "A big part of being a computer scientist is understanding documentation and being able to navigate and use new tools and tooling as it comes about. At the end of last class we did that a little ourselves. We're going to go through one of the pygame tutorials and see how they go about using the library.\n",
    "\n",
    "I'm going to go through and demonstrate some of the things that are needed to get up and running. Here are the links that I'll be going through. They are pretty good guides but they do demonstrate the level of technicality that these docs are written to. It's a great example of the attention to detail that is required at times to learn new technologies and implement new tools.\n",
    "\n",
    "- https://www.pygame.org/wiki/GettingStarted\n",
    "- https://www.pygame.org/wiki/tutorials\n",
    "- https://coderslegacy.com/python/pygame-platformer-game-development/"
   ]
  },
  {
   "cell_type": "markdown",
   "metadata": {},
   "source": [
    "## [Pep8](https://www.python.org/dev/peps/pep-0008/)\n",
    "---\n",
    "\n",
    "Pep8 is a style standard for the Python language. Style is important because good style can make code easier to understand and debug when things go wrong. It also makes it so that when we start to collaborate on code and write code in others modules that it's uniform. If two people write their code in a similar manner that makes it so that the code can be written in about half the time. \n",
    "\n",
    "Some of the important pieces that PEP8 tries to regulate are as follows:\n",
    "\n",
    "- Variable, Class, Module, File Name, and Function naming conventions\n",
    "- Tabs vs Spaces\n",
    "- Maximum Line Length\n",
    "- Importing Modules\n",
    "- Commentting and Documenting Code\n",
    "- And a lot more. \n",
    "\n",
    "For the rest of the semester we'll be trying to adhere to some of the things that PEP8 requires of programmers. \n",
    "\n",
    "\n"
   ]
  },
  {
   "cell_type": "markdown",
   "metadata": {},
   "source": [
    "## Extensions\n",
    "---\n",
    "Something that hinges on the previous topic that we haven't gone over in great detail are exploiting Extensions. This is for a good reason. It's often thought that you should learn how to do things from scratch before you learn the shortcuts. This way you gain an appreciation for the way things are and the tools that you're using. \n",
    "\n",
    "For this reason up till now I haven't recommended any extensions. I personally don't typically use a ton of extensions but below are four that make a significant difference in my experience for different reasons. \n",
    "\n",
    "First we have SonarLint. Before we talk about SonarLint we need to talk about what a code linter is. A code linter runs through your code and looks for problems in it. The reason that this is useful is that it does it before the code even runs. So that mean syntatical errors, cyclomatic complexity (I'll explain in class), runtime errors, naming errors, etc... Can be sniffed and snuffed out ahead of time saving you the hastle of having to debug things.\n",
    "\n",
    "This is probably the most useful of the components shown. As well as the one I'd say I require you to install. \n",
    "\n",
    "- https://www.sonarlint.org\n",
    "- https://marketplace.visualstudio.com/items?itemName=oderwat.indent-rainbow\n",
    "- https://marketplace.visualstudio.com/items?itemName=mhutchie.git-graph\n",
    "- https://marketplace.visualstudio.com/items?itemName=eamodio.gitlens\n",
    "\n"
   ]
  },
  {
   "cell_type": "markdown",
   "metadata": {},
   "source": [
    "## Improving Problem Solving [(Example for class)](https://www.hackerrank.com/challenges/list-comprehensions/problem)\n",
    "---\n",
    "This section is something that typically isn't taught in a CS course and is more of a personal thought to include. That being said this isn't what has to be done and may not work in all scenarios. This is more a note to the piece of CS that isn't typically talked about but has a place in every conversation regarding computing, tech, and the world in general. We need a method to solve problems. We all don't attack problems the same but the following is how I typically approach issues. \n",
    "\n",
    "### I have a problem and I've read through it\n",
    "---\n",
    "At this point I either understand the question fully, I have some idea of what we're doing, I'm clueless, or I'm reading the question again because I undestood nothing the first time and it's because of my inability to read and not because I can't solve the problem.\n",
    "\n",
    "\n",
    "### When we get a problem we need to understand what we're doing.\n",
    "So I have a conundrum, I don't understand the problem. Do i understand parts of the problem? Am I close to understanding it and am just missing a couple pieces? Have I done something like this before that I can equate this too? How can I get myself to the point where I understand what this is trying to tell me? \n",
    "\n",
    "### Break the problem down.\n",
    "Let's start by finding the seams in the problem. That way we can break the problem down into smaller problems. Often we'll find that complex things are made up of a bunch of smaller complex things. All this to say it's hard to see an elephant for what it is standing 3 inches away from the elephant. We need to step back and see the elephant or in the case of this bad metaphor our problem for what it is. A bunch of smaller problems.\n",
    "\n",
    "### We get more managable pieces, then figure out what each part needs to do. \n",
    "Now we have more managable pieces. We can start figuring out how to tend to all of the smaller pieces. The cycle may restart here if one of the pieces is still complex but you're now closer to solving the issue that you're having. You have this smaller hurdle to jump over than you did before. \n",
    "\n",
    "We're gonna continue as if our pieces are all small enough though. We've got managable pieces. We know what they're each responsible for. Now it's time to start building these things out.\n",
    "\n",
    "### Get it into terms we can understand\n",
    "Ok so we have our \"managable\" piece. Sometimes you're doing something that you're weak in or just can't seem to understand a topic. Sometimes you just need to get it related to something that you do understand. \n",
    "\n",
    "Both an artist and a mathematition can draw a square. They care about different things but generally they both know. what a square is. Most of the time you to start just need to generally understand what you need to do. So if you're the mathematition or the artist trying to understand something in the other realm the fine details can come later as long as you can get a general understanding.\n",
    "\n",
    "### Scale down\n",
    "This part is probably my favorite and most comforting step. My problem seems insurmountable. I don't know how I could ever do it. \n",
    "\n",
    "Let's scale it down. I need to find out if 47,055,833,459 is a prime number. *cough cough* ~This is your assignment (sorta)~ That number is ridiculous. Let's start with a number I know is prime like 2 or 5 or 7. I'm going to find out if these smaller numbers are prime and ignore the big number for now. \n",
    "\n",
    "With this we can learn a valuable lesson. We're looking inbetween the lines. We need something that discovers prime numbers. Not large prime numbers. Just prime numbers. I say this to demonstrate that we need to look at the simple case for this. The big number is there to scare you. You need to focus on the process and the solution. If your process is sound the size of the problem becomes less of an issue. \n",
    "\n",
    "![Car example](https://hackernoon.com/hn-images/1*1L6_1aPP-_kFDAfbt9DkUQ.jpeg)\n",
    "\n",
    "### Find a solution\n",
    "Ok I've scaled my issue down. I'm going to find out if numbers from 1-10 are prime or composite. Now I can start implementing a solution. This part is super important to think about. How is this done now. Has anyone done this or something like it? \n",
    "\n",
    "Now we don't want to take answers but we know how to determine if a number is prime or not. Now we need to abstract that solution so that I can give it any number. Meaning that my solution has to be dynamic. I can't have hard coded numbers in there. We also need to handle edge cases. Is 1 a prime number? (No.)\n",
    "\n",
    "### Scale up\n",
    "Now that we have our solution and we've tested it on the small scale level, it's time to attack our big scary number. \n",
    "\n",
    "47,055,833,459\n",
    "\n",
    "We may be successful here. We may have to scale back down and tweak our solution with a bigger test range. What's important is that we've made a lot of progress. Time to tinker till we get it right.\n",
    "\n",
    "### Fix edge cases (Sometimes)\n",
    "Even when our code is right and working sometimes we have edge cases that we didn't account for. \n",
    "\n",
    "Did you test negative numbers? \n",
    "\n",
    "Did you test 0? \n",
    "\n",
    "Edge/Fringe cases will always exist so don't feel too bad if you don't get them all on the first pass. "
   ]
  },
  {
   "cell_type": "code",
   "execution_count": null,
   "metadata": {},
   "outputs": [],
   "source": []
  }
 ],
 "metadata": {
  "interpreter": {
   "hash": "6b5318982f8d72d90cd36bfa2e98546ee27090b6a028d8e71394b9f0a4a0e32e"
  },
  "kernelspec": {
   "display_name": "Python 2.7.16 64-bit ('MacOS')",
   "language": "python",
   "name": "python3"
  },
  "language_info": {
   "name": "python",
   "version": "3.9.0"
  },
  "metadata": {
   "interpreter": {
    "hash": "545e036c4b32438aced1f6b3c8d38ca151d9c36189e05839cb0aa568fda70ddd"
   }
  },
  "orig_nbformat": 2
 },
 "nbformat": 4,
 "nbformat_minor": 2
}
