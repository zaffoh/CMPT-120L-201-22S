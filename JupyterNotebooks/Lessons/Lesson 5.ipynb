{
 "cells": [
  {
   "cell_type": "markdown",
   "metadata": {},
   "source": [
    "# Introduction to Programming\n",
    "\n",
    "Topics for today will include:\n",
    "- Codecademy\n",
    "- Markdown\n",
    "- Hackerrank\n",
    "- Reviewing Our Tools\n",
    "- Importance of Logic\n",
    "- Learning About Our Strengths\n",
    "- Interpreted vs Compiled\n",
    "- Keeping Our Code Dry\n",
    "- Learning About Dictionaries\n",
    "- Back To The Terminal\n",
    "\n",
    "\n",
    "\n",
    "\n"
   ]
  },
  {
   "cell_type": "markdown",
   "metadata": {},
   "source": [
    "## [Codecademy](https://www.codecademy.com/catalog/language/bash)\n",
    "---\n",
    "Codecademy is an amazing resource that allows new and seasoned developers take courses. Formerly a primarily free platform there is some paid content out there. Some of which is still free!"
   ]
  },
  {
   "cell_type": "markdown",
   "metadata": {},
   "source": [
    "## [Markdown](https://www.markdownguide.org)\n",
    "---\n",
    "Markdown is an industry standard way to beautifully document our work. This is going to be helpful for you lab later. "
   ]
  },
  {
   "cell_type": "markdown",
   "metadata": {},
   "source": [
    "## [HackerRank](https://www.hackerrank.com)\n",
    "---\n",
    "We're going to continue our discussion on useful resources with HackerRank. HackerRank is a site that has practice problems revolving around a bunch of languages. This similar to last week isn't something that's required to play around with but may prove useful in the future. This can be used to improve your understanding of logic or possibly learn new things and get badges on the site. Companies often use sites like this for interviews so getting used to answering questions in a medium such as this one is a worth while endeavor for most."
   ]
  },
  {
   "cell_type": "markdown",
   "metadata": {},
   "source": [
    "## Learning About Our Strengths\n",
    "---\n",
    "So, we have talked a little about why we chose Python as our language but we want to build on that. How can we be sure that we're using the language properly? What what it intended to do? How do others percieve Python? \n",
    "\n",
    "These are questions that often need to be asked to determine what our approach towards things should be. As someone new to programming it should be used as a basis for when you venture into other languages. \n",
    "\n",
    "### Interpreted Language (Kinda)\n",
    "---\n",
    "Python is a language that is mostly interpreted we'll touch on exactly what that means below. For the purposes of discussing the language it makes it more accessible. Not having to interface with a compiler and just going through an interpreter is often viewed as more developer friendly. Especially for newer developers.\n",
    "\n",
    "> Python is an interpreted, high-level and general-purpose programming language. -Wikipedia\n",
    "\n",
    "Although Wikipedia says this python has strayed from that definition. While it's still mostly interpreted that's become a little controversial as a topic. There are compiled python files that allow for quicker access to commonly used python files. \n",
    "\n",
    "Meaning that it's kinda both!\n",
    "\n",
    "![Python interpreter](https://gableroux.com/images/python-interpreter.png)\n",
    "\n",
    "### Simple to Understand\n",
    "---\n",
    "Python wants to be easy to understand as one of the basic tenets of the language. We want to be pythonic meaning that we want to be able to read Python as if it was english. It's important that we adhere to this because most nowadays are learning python as a first language or to explain and code up complex things. If the tools that we're using a complex thing are themselves complex then out solution is complex^2 and that will scare users.\n",
    "\n",
    "#### KISS (KEEP IT SIMPLE STUPID) and DOTS (DON'T OVER THINK SH!T)\n",
    "\n",
    "### Flexible\n",
    "---\n",
    "Python is use in several places and in many scenarios. From web development to data science Python is the primary chosen language due to it's flexibility. This is something that's easier to witness than to imagine. So we have an image to demonstrate. \n",
    "\n",
    "![Python Uses](https://qph.fs.quoracdn.net/main-qimg-0613adfdf47a4691e947539c31be0247)\n",
    "\n",
    "### Dynamic vs Static Typing\n",
    "---\n",
    "Python is a Dynamically typed language. This often comes with being interpreted. All that this means for us is that the interpreter is responsible for determining the typing of all of the things that we make. From variables to functions and what they might return. \n",
    "\n",
    "In a static typed language like Java, which is also a complied language. We have to explicitly say what type of variables that we're declaring. \n",
    "\n",
    "Dynamic typing means the interpreter will figure out types. \n",
    "\n",
    "Static typing means that we declare the types upon initialization.\n",
    "\n",
    "\n",
    "### Shell, PowerShell, Bash (Bourne Again Shell), and zsh\n",
    "---\n",
    "Shells are something that you can technically circumnavate for a long time in Computer Science. Though many lessons and different methods of doing things come through working in the shell. I wouldn't recommend straying away.\n",
    "\n",
    "Shells are a way to interact with your computer on an more interactive and heightened level. We can also run things like our python files without a text editor. In fact your text editor is just using your built in terminal.\n",
    "\n",
    "### What's A Terminal Then?\n",
    "---\n",
    "A terminal is the vessel that holds a shell. Some are more customizable, have better highlighting, better functionality, etc. than others. Here are the ones that I use for each platform\n",
    "\n",
    "#### Windows\n",
    "- [Windows Terminal](https://www.microsoft.com/en-us/p/windows-terminal/9n0dx20hk701?activetab=pivot:overviewtab)\n",
    "\n",
    "#### Mac\n",
    "- [ITerm2](https://iterm2.com)\n",
    "\n",
    "### Command Line Driven Applications\n",
    "---\n",
    "Python is used to write command line driven applications often. This is solely a product that is run from the command line using a shell. Command line applications are prevelant in places that we don't need a GUI.\n",
    "\n",
    "GUI (Graphical User Interface)\n",
    "- [Cement](https://builtoncement.com)\n",
    "\n",
    "\n",
    "### Back End Processing\n",
    "---\n",
    "So now after speaking about Command Line Driven applications we see that we can make apps that handle processing in the back end. \n",
    "\n",
    "Whether this is a website, a process to bring up and automate systems, a process to do calculus homework.\n",
    "\n",
    "We often don't need a GUI and it takes time to build out GUIs. For us we're more concerned about the logic in the back end. \n",
    "\n",
    "- [Django](https://www.djangoproject.com)\n",
    "- [Flask](https://flask.palletsprojects.com/en/1.1.x/)"
   ]
  },
  {
   "cell_type": "markdown",
   "metadata": {},
   "source": [
    "## Compiled vs Interpreted\n",
    "---\n",
    "Programming languages typically get converted into machine code using one of two methods. The code can either be interpreted and/or compiled. The and/or is important!\n",
    "\n",
    "### Being Compiled\n",
    "---\n",
    "Compliled languages are languages that are compiled and that process changes the code that you've written into machine code directly and ahead of time. These languages tend to be the lower level languages. These are usually faster and more efficent. These have a compile step that's required to be manually run whenever something changes. \n",
    "\n",
    "### Being Interpreted\n",
    "---\n",
    "Interpreted languages are languages that decide what's happening at run time. These languages are read in and exexuted by some program on the system. This means that things are changed into machine code in real time often. So if something were to change in real time you don't need to worry about the complilation step cause the program is going to deal with it as it comes up. \n",
    "\n",
    "### What's a Compiler\n",
    "---\n",
    "A compiler is just something that can directly translate the chosen language into machine code. \n",
    "\n",
    "### Which One is Better?\n",
    "---\n",
    "[You can decide!](https://www.freecodecamp.org/news/compiled-versus-interpreted-languages/)\n",
    "\n",
    "### What is Python?\n",
    "---\n",
    "Well it can be both..."
   ]
  },
  {
   "cell_type": "markdown",
   "metadata": {},
   "source": [
    "## Keeping Our Code Dry\n",
    "---\n",
    "\n",
    "### What does this even mean??? \n",
    "---\n",
    "If we want code to be dry then it can be wet? \n",
    "\n",
    "#### WET (Write Every Time)\n",
    "\n",
    "Ok so what is dry?\n",
    "\n",
    "#### DRY (Don't Repeat Yourself)"
   ]
  },
  {
   "cell_type": "markdown",
   "metadata": {},
   "source": [
    "### Is Our Code WET?\n",
    "---\n",
    "\n",
    "So we look to see if we're repeating ourselves in our code and look to minimize and generalize where we can. Modularity is key here. Not only does it mean we have fewer lines of code. This is then easier to use. Easier to follow. Then finally easier to test\n",
    "\n",
    "So we should be looking for areas where blocks of code are similar and looking to make them into functions. "
   ]
  },
  {
   "cell_type": "markdown",
   "metadata": {},
   "source": [
    "### How Do We DRY Off?\n",
    "---\n",
    "- We look to reduce repeated code\n",
    "- We get rid of magic numbers\n",
    "    - A magic number is a number just floating out there.\n",
    "    - `age * 7` What is 7? Why are we multiplying age by it? \n",
    "    - `DOG_YEARS_MULTIPLIER = 7` gives the number meaning. \n",
    "        - When a variable is written in all caps that typically means that it's a constant.\n",
    "        - Constants aren't supposed to be changed.\n",
    "    - `age * DOG_YEARS_MULTIPLIER`\n",
    "- We use functions and classes whereever applicable "
   ]
  },
  {
   "cell_type": "markdown",
   "metadata": {},
   "source": [
    "### The Importance of DRY Code\n",
    "---\n",
    "Dry code is important for a ton of reasons. \n",
    "\n",
    "[Read this article about DRY code for more!](https://www.softwareyoga.com/is-your-code-dry-or-wet/)"
   ]
  },
  {
   "cell_type": "markdown",
   "metadata": {},
   "source": [
    "## Learning About Dictionaries\n",
    "---"
   ]
  },
  {
   "cell_type": "code",
   "execution_count": 1,
   "metadata": {
    "tags": []
   },
   "outputs": [
    {
     "name": "stdout",
     "output_type": "stream",
     "text": [
      "value5\n",
      "value6\n"
     ]
    }
   ],
   "source": [
    "dummy_dict = {\n",
    "    \"key1\" : \"value4\",\n",
    "    \"key2\" : \"value3\",\n",
    "    \"key3\" : \"value2\",\n",
    "    \"key4\" : \"value1\",\n",
    "}\n",
    "\n",
    "dummy_dict[\"hey1\"] = \"value5\"\n",
    "dummy_dict[\"key1\"] = \"value6\"\n",
    "\n",
    "print(dummy_dict[\"hey1\"])\n",
    "print(dummy_dict[\"key1\"])"
   ]
  },
  {
   "cell_type": "markdown",
   "metadata": {},
   "source": [
    "## Back To The Terminal\n",
    "---"
   ]
  }
 ],
 "metadata": {
  "kernelspec": {
   "display_name": "Python 3.9.1 64-bit",
   "metadata": {
    "interpreter": {
     "hash": "aee8b7b246df8f9039afb4144a1f6fd8d2ca17a180786b69acc140d282b71a49"
    }
   },
   "name": "python3"
  },
  "language_info": {
   "codemirror_mode": {
    "name": "ipython",
    "version": 3
   },
   "file_extension": ".py",
   "mimetype": "text/x-python",
   "name": "python",
   "nbconvert_exporter": "python",
   "pygments_lexer": "ipython3",
   "version": "3.9.1"
  },
  "orig_nbformat": 2
 },
 "nbformat": 4,
 "nbformat_minor": 2
}